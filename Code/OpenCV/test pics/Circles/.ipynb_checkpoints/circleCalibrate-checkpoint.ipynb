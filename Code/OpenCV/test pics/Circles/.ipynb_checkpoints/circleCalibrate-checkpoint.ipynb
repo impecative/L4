{
 "cells": [
  {
   "cell_type": "code",
   "execution_count": 26,
   "metadata": {},
   "outputs": [],
   "source": [
    "# import necessary modules\n",
    "import cv2 as cv\n",
    "import numpy as np\n",
    "import glob\n"
   ]
  },
  {
   "cell_type": "code",
   "execution_count": 27,
   "metadata": {},
   "outputs": [],
   "source": [
    "# termination criteria\n",
    "criteria = (cv.TermCriteria_EPS + cv.TermCriteria_MAX_ITER, 30, 0.001)\n",
    "\n",
    "cols, rows = 8, 11"
   ]
  },
  {
   "cell_type": "code",
   "execution_count": 28,
   "metadata": {},
   "outputs": [],
   "source": [
    "# prepare object points\n",
    "objp = np.zeros((cols*rows,3), np.float32) # zero array for 8 x 11 circle board\n",
    "objp[:,:2] = np.mgrid[0:cols,0:rows].T.reshape(-1,2)  # format shape of array\n",
    "\n",
    "# arrays to store object points and image points\n",
    "objpoints = []\n",
    "imgpoints = []"
   ]
  },
  {
   "cell_type": "code",
   "execution_count": 29,
   "metadata": {},
   "outputs": [],
   "source": [
    "# read the image file(s)\n",
    "images = glob.glob(\"*.JPG\")\n",
    "\n",
    "#img = cv.imread(\"DSC_2935.JPG\")\n",
    "\n",
    "# resize the image to make it more manageable\n",
    "#reimg = cv.resize(img, (1200,800))\n",
    "#cv.imwrite(\"reimg.png\", reimg)\n"
   ]
  },
  {
   "cell_type": "code",
   "execution_count": 30,
   "metadata": {},
   "outputs": [
    {
     "name": "stdout",
     "output_type": "stream",
     "text": [
      "10.0% complete\n",
      "Circle pattern is found...\n",
      "20.0% complete\n",
      "Circle pattern is found...\n",
      "30.0% complete\n",
      "Circle pattern is found...\n",
      "40.0% complete\n",
      "Circle pattern is found...\n",
      "50.0% complete\n",
      "Circle pattern is found...\n",
      "60.0% complete\n",
      "Circle pattern is found...\n",
      "70.0% complete\n",
      "Circle pattern is found...\n",
      "80.0% complete\n",
      "Circle pattern is found...\n",
      "90.0% complete\n",
      "Circle pattern is found...\n",
      "100.0% complete\n",
      "Circle pattern is found...\n",
      "Succeeded for 10/10 images\n"
     ]
    }
   ],
   "source": [
    "counter, failed, success = 1, 0, 0\n",
    "size = (cols, rows)\n",
    "\n",
    "for fname in images:\n",
    "    percent_done = counter * 100 / len(images)\n",
    "    print(\"{0:.1f}% complete\".format(percent_done))\n",
    "    counter += 1\n",
    "    img = cv.imread(fname)\n",
    "    # resize the image to make it more manageable\n",
    "    reimg = img   # in case want full size\n",
    "    #reimg = cv.resize(img, (1149,766))  # (1149, 766) works\n",
    "\n",
    "    # convert to gray\n",
    "    gray = cv.cvtColor(reimg, cv.COLOR_BGR2GRAY)\n",
    "    \n",
    "    # find circles on image\n",
    "    ret, centres = cv.findCirclesGrid(gray, size, flags=\n",
    "                                      cv.CALIB_CB_SYMMETRIC_GRID \n",
    "                                      + cv.CALIB_CB_CLUSTERING)\n",
    "\n",
    "    if ret == True: \n",
    "        success += 1\n",
    "        print(\"Circle pattern is found...\")\n",
    "        objpoints.append(objp)\n",
    "    \n",
    "        centres2 = centres\n",
    "        centres2 = cv.cornerSubPix(gray, centres, (11,11), (-1,-1), criteria)\n",
    "\n",
    "\n",
    "        imgpoints.append(centres2)\n",
    "\n",
    "        # draw and display the patterns\n",
    "        img = cv.drawChessboardCorners(reimg, size, centres2, ret)\n",
    "\n",
    "        cv.imshow(\"img\", cv.resize(reimg, (1920, 1080)))\n",
    "        \n",
    "        #original = cv.resize(img, (600,400))\n",
    "        \n",
    "        #cv.imwrite(\"{}_pattern.png\".format(fname), img)\n",
    "        \n",
    "        #cv.imshow(\"img\", original)\n",
    "\n",
    "        cv.waitKey(200)\n",
    "        \n",
    "        \n",
    "    \n",
    "    else:\n",
    "        failed += 1\n",
    "        print(\"Circle pattern not found...\")\n",
    "        \n",
    "\n",
    "cv.destroyAllWindows()    \n",
    "print(\"Succeeded for {}/{} images\".format(success,len(images)))\n",
    "    "
   ]
  },
  {
   "cell_type": "code",
   "execution_count": 31,
   "metadata": {},
   "outputs": [
    {
     "name": "stdout",
     "output_type": "stream",
     "text": [
      "Image (w,h) = [6000, 4000]\n",
      "\n",
      "RMS 0.8877648028972368 \n",
      "\n",
      "Camera Matrix: \n",
      " [[1.32128872e+04 0.00000000e+00 3.31183263e+03]\n",
      " [0.00000000e+00 1.32474070e+04 1.78407133e+03]\n",
      " [0.00000000e+00 0.00000000e+00 1.00000000e+00]] \n",
      "\n",
      "distortion coefficients:  [ 2.48464916e-01 -2.24984435e+01 -7.36035071e-03  9.00966998e-03\n",
      "  5.16346791e+02] \n",
      "\n",
      "Focal length in x = 51.75 mm\n",
      "Focal length in y = 51.66 mm\n"
     ]
    }
   ],
   "source": [
    "# camera calibration\n",
    "\n",
    "h, w = reimg.shape[:2]\n",
    "print(\"Image (w,h) = {}\".format([w,h]))\n",
    "\n",
    "rms, camera_matrix, dist_coefs, rvecs, tvecs = cv.calibrateCamera(\n",
    "                                                objpoints, imgpoints, \n",
    "                                                (w,h), None, None)#, flags = cv.CALIB_THIN_PRISM_MODEL)\n",
    "\n",
    "\n",
    "print(\"\\nRMS\", rms, \"\\n\")\n",
    "print(\"Camera Matrix: \\n\", camera_matrix, \"\\n\")\n",
    "print(\"distortion coefficients: \", dist_coefs.ravel(), \"\\n\")\n",
    "\n",
    "fx = camera_matrix[0][0]   # focal length in x-direction\n",
    "fy = camera_matrix[1][1]   # focal length in y-direction\n",
    "W  = 23.5                  # sensor width in mm\n",
    "H  = 15.6                  # sensor height in mm\n",
    "\n",
    "\n",
    "Fx = fx * W/w\n",
    "Fy = fy * H/h\n",
    "\n",
    "print(\"Focal length in x = {:.2f} mm\".format(Fx))\n",
    "print(\"Focal length in y = {:.2f} mm\".format(Fy))\n"
   ]
  },
  {
   "cell_type": "code",
   "execution_count": 32,
   "metadata": {},
   "outputs": [
    {
     "name": "stdout",
     "output_type": "stream",
     "text": [
      "New Camera Matrix: \n",
      " [[1.35449570e+04 0.00000000e+00 3.27904922e+03]\n",
      " [0.00000000e+00 1.32348701e+04 1.77873394e+03]\n",
      " [0.00000000e+00 0.00000000e+00 1.00000000e+00]]\n",
      "ROI =  (266, 145, 5617, 3600)\n"
     ]
    }
   ],
   "source": [
    "newcameramtx, roi = cv.getOptimalNewCameraMatrix(camera_matrix, \n",
    "                                                dist_coefs, (w,h), 1, (w,h))\n",
    "\n",
    "print(\"New Camera Matrix: \\n\", newcameramtx)\n",
    "print(\"ROI = \", roi)\n"
   ]
  },
  {
   "cell_type": "code",
   "execution_count": 33,
   "metadata": {},
   "outputs": [
    {
     "name": "stdout",
     "output_type": "stream",
     "text": [
      "focal length is 51.53 mm \n",
      "\n",
      "aspect ratio is 1.00 \n",
      "\n",
      "The principle point is (12.916147254522768, 6.987612701855546)\n",
      "This should not be far from (2999.5, 1999.5)\n"
     ]
    }
   ],
   "source": [
    "# get the camera parameters back\n",
    "fovx, fovy, focalLength, principalPoint, aspectRatio = cv.calibrationMatrixValues(camera_matrix, reimg.shape[:2], \n",
    "                                                                                  15.6, 23.5)\n",
    "\n",
    "print(\"focal length is {:.2f} mm \\n\".format(focalLength))\n",
    "print(\"aspect ratio is {:.2f} \\n\".format(aspectRatio))\n",
    "print(\"The principle point is {}\".format(principalPoint))\n",
    "print(\"This should not be far from {}\".format((w/2-0.5,h/2-0.5)))"
   ]
  },
  {
   "cell_type": "code",
   "execution_count": 34,
   "metadata": {},
   "outputs": [],
   "source": [
    "# undistort the image\n",
    "\n",
    "dst = cv.undistort(reimg, camera_matrix, dist_coefs, None, newcameramtx)"
   ]
  },
  {
   "cell_type": "code",
   "execution_count": 35,
   "metadata": {},
   "outputs": [],
   "source": [
    "# crop and display image\n",
    "x, y, w, h = roi\n",
    "dst = dst[y:y+h, x:x+w]\n",
    "\n"
   ]
  },
  {
   "cell_type": "code",
   "execution_count": 36,
   "metadata": {},
   "outputs": [],
   "source": [
    "# show before and after distortion\n",
    "new = cv.resize(dst, (600, 400))\n",
    "original = cv.resize(img, (600,400))\n",
    "cv.imshow(\"The result!\", new)\n",
    "\n",
    "\n",
    "\n",
    "cv.imshow(\"Original\", original)\n",
    "\n",
    "#cv.imshow(\"The result!\", dst)\n",
    "#cv.imshow(\"Original\", reimg)\n",
    "cv.waitKey(0)\n",
    "\n",
    "cv.destroyAllWindows()"
   ]
  },
  {
   "cell_type": "code",
   "execution_count": 37,
   "metadata": {},
   "outputs": [
    {
     "name": "stdout",
     "output_type": "stream",
     "text": [
      "total error:  0.08126713672957084\n"
     ]
    }
   ],
   "source": [
    "# calculate rms error\n",
    "mean_error = 0\n",
    "for i in range(len(objpoints)):\n",
    "    imgpoints2, _ = cv.projectPoints(objpoints[i], rvecs[i], tvecs[i], camera_matrix, dist_coefs)\n",
    "    error = cv.norm(imgpoints[i],imgpoints2, cv.NORM_L2)/len(imgpoints2)\n",
    "    mean_error += error\n",
    "\n",
    "print(\"total error: \", mean_error/len(objpoints))"
   ]
  },
  {
   "cell_type": "code",
   "execution_count": null,
   "metadata": {},
   "outputs": [],
   "source": []
  }
 ],
 "metadata": {
  "kernelspec": {
   "display_name": "Python 3",
   "language": "python",
   "name": "python3"
  },
  "language_info": {
   "codemirror_mode": {
    "name": "ipython",
    "version": 3
   },
   "file_extension": ".py",
   "mimetype": "text/x-python",
   "name": "python",
   "nbconvert_exporter": "python",
   "pygments_lexer": "ipython3",
   "version": "3.7.0"
  }
 },
 "nbformat": 4,
 "nbformat_minor": 2
}
