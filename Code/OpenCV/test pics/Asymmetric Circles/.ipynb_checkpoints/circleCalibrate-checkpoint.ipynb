{
 "cells": [
  {
   "cell_type": "code",
   "execution_count": 1,
   "metadata": {},
   "outputs": [],
   "source": [
    "# import necessary modules\n",
    "import cv2 as cv\n",
    "import numpy as np\n",
    "import glob\n"
   ]
  },
  {
   "cell_type": "code",
   "execution_count": 2,
   "metadata": {},
   "outputs": [],
   "source": [
    "# termination criteria\n",
    "criteria = (cv.TermCriteria_EPS + cv.TermCriteria_MAX_ITER, 30, 0.001)"
   ]
  },
  {
   "cell_type": "code",
   "execution_count": 3,
   "metadata": {},
   "outputs": [],
   "source": [
    "# prepare object points\n",
    "objp = np.zeros((8*11,3), np.float32) # zero array for 8 x 11 circle board\n",
    "objp[:,:2] = np.mgrid[0:11,0:8].T.reshape(-1,2)  # format shape of array\n",
    "\n",
    "# arrays to store object points and image points\n",
    "objpoints = []\n",
    "imgpoints = []"
   ]
  },
  {
   "cell_type": "code",
   "execution_count": 4,
   "metadata": {},
   "outputs": [],
   "source": [
    "# read the image file(s)\n",
    "images = glob.glob(\"*.JPG\")\n",
    "\n",
    "#img = cv.imread(\"DSC_2935.JPG\")\n",
    "\n",
    "# resize the image to make it more manageable\n",
    "#reimg = cv.resize(img, (1200,800))\n",
    "#cv.imwrite(\"reimg.png\", reimg)\n"
   ]
  },
  {
   "cell_type": "code",
   "execution_count": 11,
   "metadata": {},
   "outputs": [
    {
     "name": "stdout",
     "output_type": "stream",
     "text": [
      "10.0% complete\n",
      "Circle pattern not found...\n",
      "20.0% complete\n",
      "Circle pattern not found...\n",
      "30.0% complete\n",
      "Circle pattern not found...\n",
      "40.0% complete\n",
      "Circle pattern not found...\n",
      "50.0% complete\n",
      "Circle pattern not found...\n",
      "60.0% complete\n",
      "Circle pattern not found...\n",
      "70.0% complete\n",
      "Circle pattern not found...\n",
      "80.0% complete\n",
      "Circle pattern not found...\n",
      "90.0% complete\n",
      "Circle pattern not found...\n",
      "100.0% complete\n",
      "Circle pattern not found...\n",
      "Succeeded for 0/10 images\n"
     ]
    }
   ],
   "source": [
    "counter, failed, success = 1, 0, 0\n",
    "for fname in images:\n",
    "    percent_done = counter * 100 / len(images)\n",
    "    print(\"{0:.1f}% complete\".format(percent_done))\n",
    "    counter += 1\n",
    "    img = cv.imread(fname)\n",
    "    # resize the image to make it more manageable\n",
    "    reimg = cv.resize(img, (3000,2000))\n",
    "\n",
    "    # convert to gray\n",
    "    gray = cv.cvtColor(reimg, cv.COLOR_BGR2GRAY)\n",
    "    \n",
    "    shape = (8,11)\n",
    "    \n",
    "    # find circles on image\n",
    "    ret, centres = cv.findCirclesGrid(gray, shape, flags=\n",
    "                                      cv.CALIB_CB_ASYMMETRIC_GRID \n",
    "                                      + cv.CALIB_CB_CLUSTERING)\n",
    "\n",
    "    if ret == True: \n",
    "        success += 1\n",
    "        print(\"Circle pattern is found...\")\n",
    "        objpoints.append(objp)\n",
    "    \n",
    "        centres2 = centres\n",
    "        #centres2 = cv.cornerSubPix(gray, centres, (11,11), (-1,-1), criteria)\n",
    "\n",
    "\n",
    "        imgpoints.append(centres2)\n",
    "\n",
    "        # draw and display the patterns\n",
    "        img = cv.drawChessboardCorners(reimg, shape, centres2, ret)\n",
    "\n",
    "        cv.imshow(\"img\", reimg)\n",
    "\n",
    "        cv.waitKey(500)\n",
    "        cv.destroyAllWindows()\n",
    "        \n",
    "    \n",
    "    else:\n",
    "        failed += 1\n",
    "        print(\"Circle pattern not found...\")\n",
    "        \n",
    "\n",
    "    \n",
    "print(\"Succeeded for {}/{} images\".format(success,len(images)))\n",
    "    "
   ]
  },
  {
   "cell_type": "code",
   "execution_count": 12,
   "metadata": {},
   "outputs": [
    {
     "ename": "error",
     "evalue": "OpenCV(3.4.3) D:\\Build\\OpenCV\\opencv-3.4.3\\modules\\calib3d\\src\\calibration.cpp:3146: error: (-215:Assertion failed) ni == ni1 in function 'cv::collectCalibrationData'\n",
     "output_type": "error",
     "traceback": [
      "\u001b[1;31m---------------------------------------------------------------------------\u001b[0m",
      "\u001b[1;31merror\u001b[0m                                     Traceback (most recent call last)",
      "\u001b[1;32m<ipython-input-12-f945c1de8c63>\u001b[0m in \u001b[0;36m<module>\u001b[1;34m\u001b[0m\n\u001b[0;32m      4\u001b[0m rms, camera_matrix, dist_coefs, rvecs, tvecs = cv.calibrateCamera(\n\u001b[0;32m      5\u001b[0m                                                 \u001b[0mobjpoints\u001b[0m\u001b[1;33m,\u001b[0m \u001b[0mimgpoints\u001b[0m\u001b[1;33m,\u001b[0m\u001b[1;33m\u001b[0m\u001b[0m\n\u001b[1;32m----> 6\u001b[1;33m                                                 (w,h), None, None)\n\u001b[0m\u001b[0;32m      7\u001b[0m \u001b[1;33m\u001b[0m\u001b[0m\n\u001b[0;32m      8\u001b[0m \u001b[1;33m\u001b[0m\u001b[0m\n",
      "\u001b[1;31merror\u001b[0m: OpenCV(3.4.3) D:\\Build\\OpenCV\\opencv-3.4.3\\modules\\calib3d\\src\\calibration.cpp:3146: error: (-215:Assertion failed) ni == ni1 in function 'cv::collectCalibrationData'\n"
     ]
    }
   ],
   "source": [
    "# camera calibration\n",
    "h, w = img.shape[:2]\n",
    "\n",
    "rms, camera_matrix, dist_coefs, rvecs, tvecs = cv.calibrateCamera(\n",
    "                                                objpoints, imgpoints, \n",
    "                                                (w,h), None, None)\n",
    "\n",
    "\n",
    "print(\"\\nRMS\", rms)\n",
    "print(\"Camera Matrix: \\n\", camera_matrix)\n",
    "print(\"distortion coefficients: \", dist_coefs.ravel())\n"
   ]
  },
  {
   "cell_type": "code",
   "execution_count": null,
   "metadata": {},
   "outputs": [],
   "source": [
    "newcameramtx, roi = cv.getOptimalNewCameraMatrix(camera_matrix, \n",
    "                                                dist_coefs, (w,h), 1, (w,h))\n",
    "\n",
    "print(\"New Camera Matrix: \\n\", newcameramtx)\n",
    "print(\"ROI = \", roi)\n"
   ]
  },
  {
   "cell_type": "code",
   "execution_count": null,
   "metadata": {},
   "outputs": [],
   "source": [
    "# undistort the image\n",
    "\n",
    "dst = cv.undistort(img, camera_matrix, dist_coefs, None, newcameramtx)"
   ]
  },
  {
   "cell_type": "code",
   "execution_count": null,
   "metadata": {},
   "outputs": [],
   "source": [
    "# crop and display image\n",
    "x, y, w, h = roi\n",
    "dst = dst[y:y+h, x:x+w]\n",
    "\n"
   ]
  },
  {
   "cell_type": "code",
   "execution_count": null,
   "metadata": {},
   "outputs": [],
   "source": [
    "# show before and after distortion\n",
    "cv.imshow(\"The result!\", dst)\n",
    "cv.imshow(\"Original\", img)\n",
    "cv.waitKey(0)\n",
    "\n",
    "cv.destroyAllWindows()"
   ]
  },
  {
   "cell_type": "code",
   "execution_count": null,
   "metadata": {},
   "outputs": [],
   "source": []
  }
 ],
 "metadata": {
  "kernelspec": {
   "display_name": "Python 3",
   "language": "python",
   "name": "python3"
  },
  "language_info": {
   "codemirror_mode": {
    "name": "ipython",
    "version": 3
   },
   "file_extension": ".py",
   "mimetype": "text/x-python",
   "name": "python",
   "nbconvert_exporter": "python",
   "pygments_lexer": "ipython3",
   "version": "3.7.0"
  }
 },
 "nbformat": 4,
 "nbformat_minor": 2
}
