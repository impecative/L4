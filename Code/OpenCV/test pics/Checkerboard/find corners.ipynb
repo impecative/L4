{
 "cells": [
  {
   "cell_type": "code",
   "execution_count": 1,
   "metadata": {},
   "outputs": [],
   "source": [
    "# necessary modules\n",
    "import numpy as np      # for maths\n",
    "import cv2 as cv        # for camera tools\n",
    "import glob             \n",
    "import os\n"
   ]
  },
  {
   "cell_type": "code",
   "execution_count": 2,
   "metadata": {},
   "outputs": [],
   "source": [
    "# termination criteria\n",
    "criteria = (cv.TermCriteria_EPS + cv.TermCriteria_MAX_ITER, 30, 0.001)\n",
    "\n",
    "cols, rows = 7, 10\n"
   ]
  },
  {
   "cell_type": "code",
   "execution_count": 3,
   "metadata": {},
   "outputs": [],
   "source": [
    "# prepare object points\n",
    "# prepare object points\n",
    "objp = np.zeros((cols*rows,3), np.float32) # zero array for 8 x 11 circle board\n",
    "objp[:,:2] = np.mgrid[0:cols,0:rows].T.reshape(-1,2)  # format shape of array\n",
    "\n",
    "# arrays to store object points and image points\n",
    "objpoints = []\n",
    "imgpoints = []"
   ]
  },
  {
   "cell_type": "code",
   "execution_count": 4,
   "metadata": {},
   "outputs": [],
   "source": [
    "# read the image file(s)\n",
    "images = glob.glob(\"*.JPG\")\n",
    "\n",
    "folder = \"found_patterns\"\n",
    "\n",
    "if not os.path.exists(folder):\n",
    "    os.mkdir(folder)\n"
   ]
  },
  {
   "cell_type": "code",
   "execution_count": 5,
   "metadata": {},
   "outputs": [
    {
     "name": "stdout",
     "output_type": "stream",
     "text": [
      "5.9% complete\n",
      "Chessboard pattern is found...\n",
      "11.8% complete\n",
      "Chessboard pattern is found...\n",
      "17.6% complete\n",
      "Chessboard pattern is found...\n",
      "23.5% complete\n",
      "Chessboard pattern is found...\n",
      "29.4% complete\n",
      "Chessboard pattern is found...\n",
      "35.3% complete\n",
      "Chessboard pattern is found...\n",
      "41.2% complete\n",
      "Chessboard pattern is found...\n",
      "47.1% complete\n",
      "Chessboard pattern is found...\n",
      "52.9% complete\n",
      "Chessboard pattern is found...\n",
      "58.8% complete\n",
      "Chessboard pattern is found...\n",
      "64.7% complete\n",
      "Chessboard pattern is found...\n",
      "Succeeded for 11/17 images\n"
     ]
    }
   ],
   "source": [
    "counter, success = 1, 0 \n",
    "size = (cols,rows)   # (cols, rows)\n",
    "\n",
    "path = '{}/{}'.format(os.getcwd(),folder)\n",
    "\n",
    "for fname in images[:11]:\n",
    "    name = fname[0:8]    # for file saving\n",
    "    \n",
    "    # progress counter\n",
    "    percent_done = counter * 100 / len(images)\n",
    "    print(\"{0:.1f}% complete\".format(percent_done))\n",
    "    counter += 1\n",
    "    \n",
    "    # full size image for best accuracy\n",
    "    img = cv.imread(fname)\n",
    "    \n",
    "    # resize the image to make it more manageable\n",
    "    reimg = cv.resize(img, (1149, 766))    # (1149, 766) works\n",
    "    \n",
    "    # scale factor\n",
    "    factor = img.shape[1]/reimg.shape[1]\n",
    "\n",
    "    # convert to gray\n",
    "    gray = cv.cvtColor(img, cv.COLOR_BGR2GRAY)\n",
    "    \n",
    "    # find checkerboard corners\n",
    "    ret, centres = cv.findChessboardCorners(gray, size, \n",
    "                                        flags=cv.CALIB_CB_ADAPTIVE_THRESH\n",
    "                                           + cv.CALIB_CB_NORMALIZE_IMAGE)\n",
    "\n",
    "    if ret == True: \n",
    "        success += 1\n",
    "        print(\"Chessboard pattern is found...\")\n",
    "        objpoints.append(objp)\n",
    "    \n",
    "        centres2 = centres\n",
    "        centres2 = cv.cornerSubPix(gray, centres, (11,11), (-1,-1), \n",
    "                                   criteria)\n",
    "\n",
    "        imgpoints.append(centres2)\n",
    "\n",
    "        # draw and display the patterns\n",
    "        drawimg = cv.drawChessboardCorners(reimg, size, centres2/factor, ret)\n",
    "\n",
    "        cv.imshow(\"img\", drawimg)        \n",
    "        cv.imwrite(os.path.join(path , '{}.png'.format(name)), drawimg)\n",
    "\n",
    "        cv.waitKey(200)\n",
    "        \n",
    "    else:\n",
    "        print(\"Chess board pattern not found...\")\n",
    "        \n",
    "cv.destroyAllWindows()\n",
    "        \n",
    "print(\"Succeeded for {}/{} images\".format(success,len(images)))"
   ]
  },
  {
   "cell_type": "code",
   "execution_count": 6,
   "metadata": {},
   "outputs": [
    {
     "name": "stdout",
     "output_type": "stream",
     "text": [
      "\n",
      "RMS 0.817498734786119 \n",
      "\n",
      "Camera Matrix: \n",
      " [[1.30089291e+04 0.00000000e+00 3.20490385e+03]\n",
      " [0.00000000e+00 1.30188739e+04 1.93074104e+03]\n",
      " [0.00000000e+00 0.00000000e+00 1.00000000e+00]]\n",
      "distortion coefficients:  [-7.98497731e-04 -4.11169874e+00 -3.20541520e-03  2.22145564e-03\n",
      "  4.57725455e+01] \n",
      "\n",
      "Focal length in x = 50.95 mm\n",
      "Focal length in y = 50.77 mm\n"
     ]
    }
   ],
   "source": [
    "# camera calibration\n",
    "h, w = img.shape[:2]\n",
    "\n",
    "rms, camera_matrix, dist_coefs, rvecs, tvecs = cv.calibrateCamera(\n",
    "                                                objpoints, imgpoints, \n",
    "                                                (w,h), None, None)\n",
    "\n",
    "print(\"\\nRMS\", rms, \"\\n\")\n",
    "print(\"Camera Matrix: \\n\", camera_matrix)\n",
    "print(\"distortion coefficients: \", dist_coefs.ravel(), \"\\n\")\n",
    "\n",
    "# compute focal lengths\n",
    "fx = camera_matrix[0][0]   # focal length in x-direction\n",
    "fy = camera_matrix[1][1]   # focal length in y-direction\n",
    "W  = 23.5                  # sensor width in mm\n",
    "H  = 15.6                  # sensor height in mm\n",
    "\n",
    "Fx = fx * W/w\n",
    "Fy = fy * H/h\n",
    "\n",
    "print(\"Focal length in x = {:.2f} mm\".format(Fx))\n",
    "print(\"Focal length in y = {:.2f} mm\".format(Fy))"
   ]
  },
  {
   "cell_type": "code",
   "execution_count": 7,
   "metadata": {},
   "outputs": [
    {
     "name": "stdout",
     "output_type": "stream",
     "text": [
      "New Camera Matrix: \n",
      " [[1.29359170e+04 0.00000000e+00 3.20902374e+03]\n",
      " [0.00000000e+00 1.29420059e+04 1.92624894e+03]\n",
      " [0.00000000e+00 0.00000000e+00 1.00000000e+00]]\n",
      "ROI =  (12, 7, 5982, 3984)\n"
     ]
    }
   ],
   "source": [
    "newcameramtx, roi = cv.getOptimalNewCameraMatrix(camera_matrix, \n",
    "                                                dist_coefs, (w,h), 1, (w,h))\n",
    "\n",
    "print(\"New Camera Matrix: \\n\", newcameramtx)\n",
    "print(\"ROI = \", roi)"
   ]
  },
  {
   "cell_type": "code",
   "execution_count": 8,
   "metadata": {},
   "outputs": [
    {
     "name": "stdout",
     "output_type": "stream",
     "text": [
      "focal length is 50.73 mm \n",
      "\n",
      "aspect ratio is 1.00 \n",
      "\n",
      "The principle point is (12.50, 7.56)\n"
     ]
    }
   ],
   "source": [
    "# check the camera parameters\n",
    "fovx, fovy, focalLength, principalPoint, aspectRatio = cv.calibrationMatrixValues(camera_matrix, img.shape[:2], \n",
    "                                                                                  15.6, 23.5)\n",
    "\n",
    "print(\"focal length is {:.2f} mm \\n\".format(focalLength))\n",
    "print(\"aspect ratio is {:.2f} \\n\".format(aspectRatio))\n",
    "print(\"The principle point is ({:.2f}, {:.2f})\".format(principalPoint[0], principalPoint[1]))"
   ]
  },
  {
   "cell_type": "code",
   "execution_count": 9,
   "metadata": {},
   "outputs": [],
   "source": [
    "# undistort the image\n",
    "\n",
    "dst = cv.undistort(reimg, camera_matrix, dist_coefs, None, newcameramtx)"
   ]
  },
  {
   "cell_type": "code",
   "execution_count": 10,
   "metadata": {},
   "outputs": [],
   "source": [
    "# crop and display image\n",
    "x, y, w, h = roi\n",
    "dst = dst[y:y+h, x:x+w]\n",
    "\n"
   ]
  },
  {
   "cell_type": "code",
   "execution_count": null,
   "metadata": {},
   "outputs": [],
   "source": [
    "# show before and after distortion\n",
    "#resize = dst.resize(dst, (600, 400))\n",
    "#cv.imshow(\"the result\", resize)\n",
    "#cv.namedWindow(\"The result!\", flags=WINDOW_AUTOSIZE)\n",
    "\n",
    "cv.imshow(\"The result\", dst)\n",
    "\n",
    "new = cv.resize(dst, (600, 400))\n",
    "original = cv.resize(reimg, (600,400))\n",
    "#cv.imshow(\"The result!\", new)\n",
    "\n",
    "\n",
    "\n",
    "cv.imshow(\"Original\", original)\n",
    "cv.waitKey(0)\n",
    "\n",
    "cv.destroyAllWindows()"
   ]
  },
  {
   "cell_type": "code",
   "execution_count": null,
   "metadata": {},
   "outputs": [],
   "source": [
    "# calculate rms error\n",
    "mean_error = 0\n",
    "for i in range(len(objpoints)):\n",
    "    imgpoints2, _ = cv.projectPoints(objpoints[i], rvecs[i], tvecs[i], camera_matrix, dist_coefs)\n",
    "    error = cv.norm(imgpoints[i],imgpoints2, cv.NORM_L2)/len(imgpoints2)\n",
    "    mean_error += error\n",
    "\n",
    "print(\"total error: \", mean_error/len(objpoints))"
   ]
  },
  {
   "cell_type": "code",
   "execution_count": null,
   "metadata": {},
   "outputs": [],
   "source": []
  },
  {
   "cell_type": "code",
   "execution_count": null,
   "metadata": {},
   "outputs": [],
   "source": []
  }
 ],
 "metadata": {
  "kernelspec": {
   "display_name": "Python 3",
   "language": "python",
   "name": "python3"
  },
  "language_info": {
   "codemirror_mode": {
    "name": "ipython",
    "version": 3
   },
   "file_extension": ".py",
   "mimetype": "text/x-python",
   "name": "python",
   "nbconvert_exporter": "python",
   "pygments_lexer": "ipython3",
   "version": "3.7.0"
  }
 },
 "nbformat": 4,
 "nbformat_minor": 2
}
