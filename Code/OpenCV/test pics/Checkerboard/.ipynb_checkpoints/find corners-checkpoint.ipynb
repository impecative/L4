{
 "cells": [
  {
   "cell_type": "code",
   "execution_count": 1,
   "metadata": {},
   "outputs": [],
   "source": [
    "# necessary modules\n",
    "import numpy as np\n",
    "import cv2 as cv\n",
    "import glob"
   ]
  },
  {
   "cell_type": "code",
   "execution_count": 2,
   "metadata": {},
   "outputs": [],
   "source": [
    "# termination criteria\n",
    "criteria = (cv.TermCriteria_EPS + cv.TermCriteria_MAX_ITER, 30, 0.001)\n"
   ]
  },
  {
   "cell_type": "code",
   "execution_count": 3,
   "metadata": {},
   "outputs": [],
   "source": [
    "# prepare object points\n",
    "# prepare object points\n",
    "objp = np.zeros((7*10,3), np.float32) # zero array for 8 x 11 circle board\n",
    "objp[:,:2] = np.mgrid[0:10,0:7].T.reshape(-1,2)  # format shape of array\n",
    "\n",
    "# arrays to store object points and image points\n",
    "objpoints = []\n",
    "imgpoints = []"
   ]
  },
  {
   "cell_type": "code",
   "execution_count": 4,
   "metadata": {},
   "outputs": [],
   "source": [
    "# read the image file(s)\n",
    "images = glob.glob(\"*.JPG\")\n"
   ]
  },
  {
   "cell_type": "code",
   "execution_count": 18,
   "metadata": {},
   "outputs": [
    {
     "name": "stdout",
     "output_type": "stream",
     "text": [
      "5.9% complete\n",
      "Chessboard pattern is found...\n",
      "11.8% complete\n",
      "Chessboard pattern is found...\n",
      "17.6% complete\n",
      "Chessboard pattern is found...\n",
      "23.5% complete\n",
      "Chessboard pattern is found...\n",
      "29.4% complete\n",
      "Chessboard pattern is found...\n",
      "35.3% complete\n",
      "Chessboard pattern is found...\n",
      "41.2% complete\n",
      "Chessboard pattern is found...\n",
      "47.1% complete\n",
      "Chessboard pattern is found...\n",
      "52.9% complete\n",
      "Chessboard pattern is found...\n",
      "58.8% complete\n",
      "Chessboard pattern is found...\n",
      "64.7% complete\n",
      "Chessboard pattern is found...\n",
      "70.6% complete\n",
      "Chessboard pattern is found...\n",
      "76.5% complete\n",
      "Chessboard pattern is found...\n",
      "82.4% complete\n",
      "Chessboard pattern is found...\n",
      "88.2% complete\n",
      "Chessboard pattern is found...\n",
      "94.1% complete\n",
      "Chessboard pattern is found...\n",
      "100.0% complete\n",
      "Chessboard pattern is found...\n",
      "Succeeded for 17/17 images\n"
     ]
    }
   ],
   "source": [
    "counter, success = 1, 0 \n",
    "\n",
    "for fname in images:\n",
    "    percent_done = counter * 100 / len(images)\n",
    "    print(\"{0:.1f}% complete\".format(percent_done))\n",
    "    counter += 1\n",
    "    img = cv.imread(fname)\n",
    "    # resize the image to make it more manageable\n",
    "    reimg = img    # testing to keep images at max resolution\n",
    "    reimg = cv.resize(img, (3000, 2000))    # (1149, 766) works\n",
    "\n",
    "    # convert to gray\n",
    "    gray = cv.cvtColor(reimg, cv.COLOR_BGR2GRAY)\n",
    "    \n",
    "    # find circles on image\n",
    "    ret, centres = cv.findChessboardCorners(gray, (7,10), \n",
    "                                        flags=cv.CALIB_CB_FAST_CHECK)\n",
    "\n",
    "    if ret == True: \n",
    "        success += 1\n",
    "        print(\"Chessboard pattern is found...\")\n",
    "        objpoints.append(objp)\n",
    "    \n",
    "        centres2 = centres\n",
    "        centres2 = cv.cornerSubPix(gray, centres, (11,11), (-1,-1), \n",
    "                                   criteria)\n",
    "\n",
    "\n",
    "        imgpoints.append(centres2)\n",
    "\n",
    "        # draw and display the patterns\n",
    "        #img = cv.drawChessboardCorners(reimg, (7,10), centres2, ret)\n",
    "\n",
    "        #cv.imshow(\"img\", reimg)\n",
    "\n",
    "        #cv.waitKey(500)\n",
    "        \n",
    "    \n",
    "    else:\n",
    "        print(\"Chess board pattern not found...\")\n",
    "cv.destroyAllWindows()\n",
    "        \n",
    "        \n",
    "\n",
    "    \n",
    "print(\"Succeeded for {}/{} images\".format(success,len(images)))"
   ]
  },
  {
   "cell_type": "code",
   "execution_count": 19,
   "metadata": {},
   "outputs": [
    {
     "name": "stdout",
     "output_type": "stream",
     "text": [
      "\n",
      "RMS 96.56587859994596\n",
      "Camera Matrix: \n",
      " [[2.03954791e+04 0.00000000e+00 3.13579401e+03]\n",
      " [0.00000000e+00 1.29451048e+04 2.07068403e+03]\n",
      " [0.00000000e+00 0.00000000e+00 1.00000000e+00]]\n",
      "distortion coefficients:  [-3.39997248e+00 -3.88696862e+02 -1.85731746e-01 -3.00438602e-01\n",
      "  1.09985437e+04]\n"
     ]
    }
   ],
   "source": [
    "# camera calibration\n",
    "h, w = img.shape[:2]\n",
    "\n",
    "rms, camera_matrix, dist_coefs, rvecs, tvecs = cv.calibrateCamera(\n",
    "                                                objpoints, imgpoints, \n",
    "                                                (w,h), None, None)\n",
    "\n",
    "\n",
    "print(\"\\nRMS\", rms)\n",
    "print(\"Camera Matrix: \\n\", camera_matrix)\n",
    "print(\"distortion coefficients: \", dist_coefs.ravel())\n"
   ]
  },
  {
   "cell_type": "code",
   "execution_count": 20,
   "metadata": {},
   "outputs": [
    {
     "name": "stdout",
     "output_type": "stream",
     "text": [
      "New Camera Matrix: \n",
      " [[1.67984219e+04 0.00000000e+00 2.66617020e+03]\n",
      " [0.00000000e+00 1.03943467e+04 1.91326515e+03]\n",
      " [0.00000000e+00 0.00000000e+00 1.00000000e+00]]\n",
      "ROI =  (1297, 1148, 2698, 1762)\n"
     ]
    }
   ],
   "source": [
    "newcameramtx, roi = cv.getOptimalNewCameraMatrix(camera_matrix, \n",
    "                                                dist_coefs, (w,h), 1, (w,h))\n",
    "\n",
    "print(\"New Camera Matrix: \\n\", newcameramtx)\n",
    "print(\"ROI = \", roi)"
   ]
  },
  {
   "cell_type": "code",
   "execution_count": 24,
   "metadata": {},
   "outputs": [],
   "source": [
    "# undistort the image\n",
    "\n",
    "dst = cv.undistort(img, camera_matrix, dist_coefs, None, newcameramtx)"
   ]
  },
  {
   "cell_type": "code",
   "execution_count": 25,
   "metadata": {},
   "outputs": [],
   "source": [
    "# crop and display image\n",
    "x, y, w, h = roi\n",
    "#dst = dst[y:y+h, x:x+w]\n",
    "\n"
   ]
  },
  {
   "cell_type": "code",
   "execution_count": 26,
   "metadata": {},
   "outputs": [],
   "source": [
    "# show before and after distortion\n",
    "#resize = dst.resize(dst, (600, 400))\n",
    "#cv.imshow(\"the result\", resize)\n",
    "#cv.namedWindow(\"The result!\", flags=WINDOW_AUTOSIZE)\n",
    "\n",
    "new = cv.resize(dst, (600, 400))\n",
    "original = cv.resize(img, (600,400))\n",
    "cv.imshow(\"The result!\", new)\n",
    "\n",
    "\n",
    "\n",
    "cv.imshow(\"Original\", original)\n",
    "cv.waitKey(0)\n",
    "\n",
    "cv.destroyAllWindows()"
   ]
  },
  {
   "cell_type": "code",
   "execution_count": null,
   "metadata": {},
   "outputs": [],
   "source": []
  }
 ],
 "metadata": {
  "kernelspec": {
   "display_name": "Python 3",
   "language": "python",
   "name": "python3"
  },
  "language_info": {
   "codemirror_mode": {
    "name": "ipython",
    "version": 3
   },
   "file_extension": ".py",
   "mimetype": "text/x-python",
   "name": "python",
   "nbconvert_exporter": "python",
   "pygments_lexer": "ipython3",
   "version": "3.7.0"
  }
 },
 "nbformat": 4,
 "nbformat_minor": 2
}
