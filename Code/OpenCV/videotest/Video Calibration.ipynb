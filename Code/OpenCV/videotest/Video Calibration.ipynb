{
 "cells": [
  {
   "cell_type": "code",
   "execution_count": 2,
   "metadata": {},
   "outputs": [],
   "source": [
    "# import necessary modules\n",
    "import cv2 as cv\n",
    "import numpy as np\n",
    "import glob\n",
    "import os\n",
    "import sys\n",
    "import time"
   ]
  },
  {
   "cell_type": "code",
   "execution_count": 3,
   "metadata": {},
   "outputs": [],
   "source": [
    "cols, rows = 7, 10\n",
    "shape = (cols,rows)\n",
    "\n",
    "# prepare object points\n",
    "# prepare object points\n",
    "objp = np.zeros((cols*rows,3), np.float32) # zero array for 8 x 11 circle board\n",
    "objp[:,:2] = np.mgrid[0:cols,0:rows].T.reshape(-1,2)  # format shape of array\n",
    "\n",
    "# arrays to store object points and image points\n",
    "objpoints = []\n",
    "imgpoints = []\n",
    "\n",
    "# termination criteria for subPix function\n",
    "criteria = (cv.TermCriteria_EPS + cv.TermCriteria_MAX_ITER, 30, 0.001)"
   ]
  },
  {
   "cell_type": "code",
   "execution_count": 4,
   "metadata": {},
   "outputs": [],
   "source": [
    "# Create a VideoCapture object and read from input file\n",
    "# If the input is the camera, pass 0 instead of the video file name\n",
    "cap = cv.VideoCapture('test.mp4')\n",
    "\n",
    "frameNumbers = cap.get(cv.CAP_PROP_FRAME_COUNT)\n",
    "\n",
    "# Check if camera opened successfully\n",
    "if (cap.isOpened()== False): \n",
    "  print(\"Error opening video stream or file\")\n",
    " "
   ]
  },
  {
   "cell_type": "code",
   "execution_count": 5,
   "metadata": {},
   "outputs": [],
   "source": [
    "# Here's how to play the video! \n",
    "\n",
    "# Read until video is completed\n",
    "while(cap.isOpened()):\n",
    "  # Capture frame-by-frame\n",
    "  ret, frame = cap.read()\n",
    "  if ret == True:\n",
    " \n",
    "    # Display the resulting frame\n",
    "    cv.imshow('Frame',frame)\n",
    " \n",
    "    # Press Q on keyboard to  exit\n",
    "    if cv.waitKey(25) & 0xFF == ord('q'):\n",
    "      break\n",
    " \n",
    "  # Break the loop\n",
    "  else: \n",
    "    break\n",
    " \n",
    "# When everything done, release the video capture object\n",
    "cap.release()\n",
    " \n",
    "# Closes all the frames\n",
    "cv.destroyAllWindows()"
   ]
  },
  {
   "cell_type": "code",
   "execution_count": 6,
   "metadata": {},
   "outputs": [
    {
     "name": "stdout",
     "output_type": "stream",
     "text": [
      "Currently at 100 % complete...Process Complete, find the video file in folder!\n"
     ]
    }
   ],
   "source": [
    "# Analysis of video...\n",
    "\n",
    "startTime = time.time()\n",
    "\n",
    "# Check if last cell closed the video file...\n",
    "if (cap.isOpened()== False): \n",
    "    cap = cv.VideoCapture('test.mp4')   # open it again\n",
    "    \n",
    "# width and height for output file\n",
    "frame_width = int(cap.get(3))\n",
    "frame_height = int(cap.get(4))\n",
    "\n",
    "# Define the codec and create VideoWriter object.The output is stored in 'outpy.avi' file.\n",
    "# Define the fps to be equal to 30. Also frame size is passed.\n",
    "out = cv.VideoWriter('outvideo2.avi',cv.VideoWriter_fourcc('M','J','P','G'), 30, (frame_width,frame_height))\n",
    "\n",
    "counter = 0\n",
    "while cap.isOpened(): \n",
    "    # give some indication of how far completed the process is...\n",
    "    percentageDone = counter/frameNumbers * 100\n",
    "    sys.stdout.write('\\r' + \"Currently at {:.0f} % complete...\".format(percentageDone))\n",
    "    counter += 1\n",
    "    \n",
    "    \n",
    "    \n",
    "    ret, frame = cap.read()\n",
    "    \n",
    "    if ret == True: \n",
    "               \n",
    "        # make grayscale image\n",
    "        gray = cv.cvtColor(frame, cv.COLOR_BGR2GRAY)\n",
    "        \n",
    "        # find the chessboard corners\n",
    "        found, corners = cv.findChessboardCorners(gray, shape, \n",
    "                                        flags=cv.CALIB_CB_ADAPTIVE_THRESH\n",
    "                                           + cv.CALIB_CB_NORMALIZE_IMAGE)\n",
    "        \n",
    "        if found:\n",
    "            # add the object points to array\n",
    "            objpoints.append(objp)\n",
    "            \n",
    "            # fine tune the corner positions \n",
    "            corners2 = cv.cornerSubPix(gray, corners, (11,11), (-1,-1), \n",
    "                                   criteria)\n",
    "            \n",
    "            # add the corners to the imagepoints array\n",
    "            imgpoints.append(corners2)\n",
    "            \n",
    "            # draw and display the patterns\n",
    "            drawimg = cv.drawChessboardCorners(frame, shape, corners2, ret)\n",
    "            \n",
    "            # write to output video file\n",
    "            out.write(drawimg)\n",
    "            \n",
    "            #cv.imshow(\"Frame\", drawimg)\n",
    "            \n",
    "            # Press Q on keyboard to  exit\n",
    "            #if cv.waitKey(25) & 0xFF == ord('q'):\n",
    "             #   break\n",
    " \n",
    "        # Break the loop\n",
    "        else: \n",
    "            out.write(frame)\n",
    "            pass\n",
    "    else:\n",
    "        break\n",
    " \n",
    "# When everything done, release the video capture object\n",
    "cap.release()\n",
    " \n",
    "# Closes all the frames\n",
    "cv.destroyAllWindows()\n",
    "\n",
    "print(\"Process Complete, find the video file in folder!\")"
   ]
  },
  {
   "cell_type": "code",
   "execution_count": null,
   "metadata": {},
   "outputs": [],
   "source": [
    "#### save the imgpoints and objpoints ####\n",
    "#### for analysis in another function ####\n",
    "\n",
    "np.savez"
   ]
  }
 ],
 "metadata": {
  "kernelspec": {
   "display_name": "Python 3",
   "language": "python",
   "name": "python3"
  },
  "language_info": {
   "codemirror_mode": {
    "name": "ipython",
    "version": 3
   },
   "file_extension": ".py",
   "mimetype": "text/x-python",
   "name": "python",
   "nbconvert_exporter": "python",
   "pygments_lexer": "ipython3",
   "version": "3.7.0"
  }
 },
 "nbformat": 4,
 "nbformat_minor": 2
}
