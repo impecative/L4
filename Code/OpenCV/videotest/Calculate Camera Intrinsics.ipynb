{
 "cells": [
  {
   "cell_type": "code",
   "execution_count": 1,
   "metadata": {},
   "outputs": [],
   "source": [
    "import numpy as np\n",
    "import cv2 as cv\n",
    "import glob\n",
    "import winsound, time, os, sys\n"
   ]
  },
  {
   "cell_type": "code",
   "execution_count": 2,
   "metadata": {},
   "outputs": [
    {
     "data": {
      "text/plain": [
       "627"
      ]
     },
     "execution_count": 2,
     "metadata": {},
     "output_type": "execute_result"
    }
   ],
   "source": [
    "# find the data file with extension .npz\n",
    "outfile = glob.glob(\"*.npz\")\n",
    "outfile = outfile[0]\n",
    "\n",
    "# load the npz file with objpoints and imgpoints array\n",
    "npzfile = np.load(outfile)\n",
    "\n",
    "# extract the two arrays...\n",
    "objpoints = npzfile[\"objpoints\"]\n",
    "imgpoints = npzfile[\"imgpoints\"]\n",
    "\n",
    "len(objpoints)\n",
    "len(imgpoints)\n"
   ]
  },
  {
   "cell_type": "code",
   "execution_count": 9,
   "metadata": {},
   "outputs": [
    {
     "name": "stdout",
     "output_type": "stream",
     "text": [
      "\n",
      "RMS 0.2783310003014989 \n",
      "\n",
      "Camera Matrix: \n",
      " [[1.91457020e+03 0.00000000e+00 9.83044334e+02]\n",
      " [0.00000000e+00 1.93890823e+03 5.84097293e+02]\n",
      " [0.00000000e+00 0.00000000e+00 1.00000000e+00]]\n",
      "distortion coefficients:  [ 2.21572445e-01 -1.81028987e+00  1.65591677e-03 -2.19022404e-03\n",
      "  9.31437101e+00] \n",
      "\n",
      "Focal length in x = 3.99 mm\n",
      "Focal length in y = 5.39 mm\n",
      "Processed 20 images in 2.8 s\n",
      "\n",
      "983.0443338212475\n"
     ]
    }
   ],
   "source": [
    "# use this cell to modify how many images are used as reference...\n",
    "ref_images = 20    # how many images to use? \n",
    "\n",
    "objp = objpoints[:ref_images+1]\n",
    "imgp = imgpoints[:ref_images+1]\n",
    "\n",
    "# camera calibration\n",
    "\n",
    "startTime = time.time()\n",
    "\n",
    "frame_width  = w = 1920\n",
    "frame_height = h = 1080\n",
    "\n",
    "# determine camera matrix, distortion coefficients, \n",
    "# rotation and translation vectors\n",
    "rms, camera_matrix, dist_coefs, rvecs, tvecs = cv.calibrateCamera(\n",
    "                                                objp, imgp, \n",
    "                                                (frame_width,frame_height), None, None)\n",
    "\n",
    "print(\"\\nRMS\", rms, \"\\n\")\n",
    "print(\"Camera Matrix: \\n\", camera_matrix)\n",
    "print(\"distortion coefficients: \", dist_coefs.ravel(), \"\\n\")\n",
    "\n",
    "# compute focal lengths\n",
    "fx = camera_matrix[0][0]   # focal length in x-direction\n",
    "fy = camera_matrix[1][1]   # focal length in y-direction\n",
    "W  = 4                 # sensor width in mm    6.3 x 4.7mm\n",
    "H  = 3                # sensor height in mm\n",
    "\n",
    "Fx = fx * W/w\n",
    "Fy = fy * H/h\n",
    "\n",
    "print(\"Focal length in x = {:.2f} mm\".format(Fx))\n",
    "print(\"Focal length in y = {:.2f} mm\".format(Fy))\n",
    "winsound.Beep(440, 1000)\n",
    "print(\"Processed {:.0f} images in {:.1f} s\\n\".format(ref_images, time.time()-startTime))"
   ]
  },
  {
   "cell_type": "code",
   "execution_count": 11,
   "metadata": {},
   "outputs": [
    {
     "name": "stdout",
     "output_type": "stream",
     "text": [
      "New Camera Matrix: \n",
      " [[2.24438110e+03 0.00000000e+00 9.55885886e+02]\n",
      " [0.00000000e+00 2.02282898e+03 5.19772218e+02]\n",
      " [0.00000000e+00 0.00000000e+00 1.00000000e+00]]\n",
      "ROI =  (201, 136, 1512, 779)\n"
     ]
    }
   ],
   "source": [
    "# refine the camera matrix\n",
    "newcameramtx, roi = cv.getOptimalNewCameraMatrix(camera_matrix, \n",
    "                                                dist_coefs, (w,h), 1, (w,h))\n",
    "\n",
    "print(\"New Camera Matrix: \\n\", newcameramtx)\n",
    "print(\"ROI = \", roi)"
   ]
  },
  {
   "cell_type": "code",
   "execution_count": 8,
   "metadata": {},
   "outputs": [],
   "source": [
    "def cameraMatrix(no_images, npzFileName, w = 1920, h = 1080):\n",
    "    # timing of the function\n",
    "    startTime = time.time() \n",
    "    \n",
    "    # Find and read the .npz file with data in\n",
    "    npzfile = np.load(npzFileName)\n",
    "    \n",
    "    # extract the object and image points\n",
    "    objpoints = npzfile[\"objpoints\"]\n",
    "    imgpoints = npzfile[\"imgpoints\"]\n",
    "    objp      = objpoints[:no_images+1]   # only take the first n no. images\n",
    "    imgp      = imgpoints[:no_images+1]\n",
    "    \n",
    "    # determine the RMS projection error, camera matrix, \n",
    "    # distortion coefficients, rotation and translation vectors\n",
    "    rms, camera_matrix, dist_coefficients, rvecs, tvecs = cv.calibrateCamera(\n",
    "                                                          objp, imgp, \n",
    "                                                          (w,h), None, None)\n",
    "    \n",
    "    #fovx, fovy, focalLength, principalPoint, aspectRatio = cv.calibrationMatrixValues(\n",
    "    #                                                       camera_matrix, (w,h), \n",
    "    #                                                      sensorWidth, sensorHeight\n",
    "    \n",
    "    \n",
    "    print(\"Processed {:.0f} images in {:.1f} s\".format(no_images, time.time()-startTime))\n",
    "    print(\"\\nRMS\", rms, \"\\n\")\n",
    "    print(\"Camera Matrix: \\n\", camera_matrix)\n",
    "    print(\"distortion coefficients: \", dist_coefficients.ravel(), \"\\n\")\n",
    "    \n",
    "    # refine the camera matrix\n",
    "    newcameramtx, roi = cv.getOptimalNewCameraMatrix(camera_matrix, \n",
    "                                                dist_coefficients, (w,h), 1, (w,h))\n",
    "    \n",
    "    print(\"Optimised Camera Matrix: \\n\", newcameramtx, \"\\n \\n\")\n",
    "    print(\"################################################################ \\n\")\n",
    "    \n",
    "    return no_images, rms, camera_matrix, dist_coefficients, newcameramtx\n",
    "    \n",
    "\n"
   ]
  },
  {
   "cell_type": "code",
   "execution_count": 9,
   "metadata": {},
   "outputs": [
    {
     "name": "stdout",
     "output_type": "stream",
     "text": [
      "Processed 10 images in 0.4 s\n",
      "\n",
      "RMS 0.2794895255888173 \n",
      "\n",
      "Camera Matrix: \n",
      " [[1.91789270e+03 0.00000000e+00 9.69257760e+02]\n",
      " [0.00000000e+00 1.93170636e+03 5.55808633e+02]\n",
      " [0.00000000e+00 0.00000000e+00 1.00000000e+00]]\n",
      "distortion coefficients:  [ 2.28628219e-01 -2.07902501e+00 -1.05829844e-04 -3.46736889e-03\n",
      "  1.04211805e+01] \n",
      "\n",
      "Optimised Camera Matrix: \n",
      " [[2.03841101e+03 0.00000000e+00 9.63430829e+02]\n",
      " [0.00000000e+00 1.95113928e+03 5.55540827e+02]\n",
      " [0.00000000e+00 0.00000000e+00 1.00000000e+00]] \n",
      " \n",
      "\n",
      "################################################################ \n",
      "\n",
      "Processed 20 images in 1.8 s\n",
      "\n",
      "RMS 0.2783310003014989 \n",
      "\n",
      "Camera Matrix: \n",
      " [[1.91457020e+03 0.00000000e+00 9.83044334e+02]\n",
      " [0.00000000e+00 1.93890823e+03 5.84097293e+02]\n",
      " [0.00000000e+00 0.00000000e+00 1.00000000e+00]]\n",
      "distortion coefficients:  [ 2.21572445e-01 -1.81028987e+00  1.65591677e-03 -2.19022404e-03\n",
      "  9.31437101e+00] \n",
      "\n",
      "Optimised Camera Matrix: \n",
      " [[2.03603186e+03 0.00000000e+00 9.74913702e+02]\n",
      " [0.00000000e+00 1.95931885e+03 5.84102543e+02]\n",
      " [0.00000000e+00 0.00000000e+00 1.00000000e+00]] \n",
      " \n",
      "\n",
      "################################################################ \n",
      "\n",
      "Processed 30 images in 5.4 s\n",
      "\n",
      "RMS 0.2808997319818148 \n",
      "\n",
      "Camera Matrix: \n",
      " [[1.89306751e+03 0.00000000e+00 9.71322977e+02]\n",
      " [0.00000000e+00 1.90865907e+03 5.70530994e+02]\n",
      " [0.00000000e+00 0.00000000e+00 1.00000000e+00]]\n",
      "distortion coefficients:  [ 2.16551472e-01 -1.98078779e+00  6.22153309e-04 -3.31194168e-03\n",
      "  1.09441131e+01] \n",
      "\n",
      "Optimised Camera Matrix: \n",
      " [[2.03161609e+03 0.00000000e+00 9.64719558e+02]\n",
      " [0.00000000e+00 1.92810840e+03 5.70298494e+02]\n",
      " [0.00000000e+00 0.00000000e+00 1.00000000e+00]] \n",
      " \n",
      "\n",
      "################################################################ \n",
      "\n",
      "Processed 40 images in 11.6 s\n",
      "\n",
      "RMS 0.28275442522838284 \n",
      "\n",
      "Camera Matrix: \n",
      " [[1.88283483e+03 0.00000000e+00 9.71266038e+02]\n",
      " [0.00000000e+00 1.89872755e+03 5.75559003e+02]\n",
      " [0.00000000e+00 0.00000000e+00 1.00000000e+00]]\n",
      "distortion coefficients:  [ 2.10140235e-01 -1.86551824e+00  9.86729306e-04 -3.14733632e-03\n",
      "  1.01500321e+01] \n",
      "\n",
      "Optimised Camera Matrix: \n",
      " [[2.01725330e+03 0.00000000e+00 9.64895668e+02]\n",
      " [0.00000000e+00 1.91788843e+03 5.75409419e+02]\n",
      " [0.00000000e+00 0.00000000e+00 1.00000000e+00]] \n",
      " \n",
      "\n",
      "################################################################ \n",
      "\n",
      "Processed 50 images in 21.2 s\n",
      "\n",
      "RMS 0.2823757732182516 \n",
      "\n",
      "Camera Matrix: \n",
      " [[1.87611220e+03 0.00000000e+00 9.86827421e+02]\n",
      " [0.00000000e+00 1.90654554e+03 6.14958698e+02]\n",
      " [0.00000000e+00 0.00000000e+00 1.00000000e+00]]\n",
      "distortion coefficients:  [ 1.95016766e-01 -1.28167101e+00  3.62846081e-03 -1.62241397e-03\n",
      "  5.78196688e+00] \n",
      "\n",
      "Optimised Camera Matrix: \n",
      " [[1.97391541e+03 0.00000000e+00 9.79585705e+02]\n",
      " [0.00000000e+00 1.92553979e+03 6.15365593e+02]\n",
      " [0.00000000e+00 0.00000000e+00 1.00000000e+00]] \n",
      " \n",
      "\n",
      "################################################################ \n",
      "\n"
     ]
    }
   ],
   "source": [
    "imgs, RMS, cameramtx, dist_coefficients, optimalCameraMtx = [], [], [], [], []\n",
    "\n",
    "for no_images in np.arange(10, 60, 10):\n",
    "    images, rms, camera_matrix, dist_coefs, newcameramtx = cameraMatrix(no_images, outfile)\n",
    "    imgs.append(images)\n",
    "    RMS.append(rms)\n",
    "    cameramtx.append(camera_matrix)\n",
    "    dist_coefficients.append(dist_coefs)\n",
    "    optimalCameraMtx.append(newcameramtx)"
   ]
  },
  {
   "cell_type": "code",
   "execution_count": 17,
   "metadata": {},
   "outputs": [
    {
     "data": {
      "text/plain": [
       "0"
      ]
     },
     "execution_count": 17,
     "metadata": {},
     "output_type": "execute_result"
    }
   ],
   "source": [
    "a = np.arange(10,60,10)\n",
    "b = a.tolist()"
   ]
  },
  {
   "cell_type": "code",
   "execution_count": 18,
   "metadata": {},
   "outputs": [
    {
     "ename": "SyntaxError",
     "evalue": "non-default argument follows default argument (<ipython-input-18-b31db5d6dd45>, line 1)",
     "output_type": "error",
     "traceback": [
      "\u001b[1;36m  File \u001b[1;32m\"<ipython-input-18-b31db5d6dd45>\"\u001b[1;36m, line \u001b[1;32m1\u001b[0m\n\u001b[1;33m    def compareIntrinsics(parameter = \"\", a, b):\u001b[0m\n\u001b[1;37m                         ^\u001b[0m\n\u001b[1;31mSyntaxError\u001b[0m\u001b[1;31m:\u001b[0m non-default argument follows default argument\n"
     ]
    }
   ],
   "source": [
    "\n",
    "    "
   ]
  },
  {
   "cell_type": "code",
   "execution_count": null,
   "metadata": {},
   "outputs": [],
   "source": []
  }
 ],
 "metadata": {
  "kernelspec": {
   "display_name": "Python 3",
   "language": "python",
   "name": "python3"
  },
  "language_info": {
   "codemirror_mode": {
    "name": "ipython",
    "version": 3
   },
   "file_extension": ".py",
   "mimetype": "text/x-python",
   "name": "python",
   "nbconvert_exporter": "python",
   "pygments_lexer": "ipython3",
   "version": "3.7.0"
  }
 },
 "nbformat": 4,
 "nbformat_minor": 2
}
