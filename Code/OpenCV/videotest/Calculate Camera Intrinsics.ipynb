{
 "cells": [
  {
   "cell_type": "code",
   "execution_count": 1,
   "metadata": {},
   "outputs": [],
   "source": [
    "import numpy as np\n",
    "import cv2 as cv\n",
    "import glob\n",
    "import random\n",
    "import winsound, time, os, sys\n"
   ]
  },
  {
   "cell_type": "code",
   "execution_count": 2,
   "metadata": {},
   "outputs": [
    {
     "data": {
      "text/plain": [
       "627"
      ]
     },
     "execution_count": 2,
     "metadata": {},
     "output_type": "execute_result"
    }
   ],
   "source": [
    "# find the data file with extension .npz\n",
    "outfile = glob.glob(\"*.npz\")\n",
    "outfile = outfile[0]\n",
    "\n",
    "# load the npz file with objpoints and imgpoints array\n",
    "npzfile = np.load(outfile)\n",
    "\n",
    "# extract the two arrays...\n",
    "objpoints = npzfile[\"objpoints\"]\n",
    "imgpoints = npzfile[\"imgpoints\"]\n",
    "\n",
    "len(objpoints)\n",
    "len(imgpoints)\n"
   ]
  },
  {
   "cell_type": "code",
   "execution_count": 4,
   "metadata": {},
   "outputs": [
    {
     "name": "stdout",
     "output_type": "stream",
     "text": [
      "[275, 419, 492, 186, 622, 593, 529, 311, 285, 23, 129, 52, 379, 28, 193, 257, 301, 413, 581, 366, 602, 108, 230, 594, 483, 20, 8, 391, 584, 368, 380, 18, 167, 539, 446, 223, 502, 184, 515, 97, 162, 248, 355, 267, 22, 277, 151, 148, 172, 417, 47, 137, 219, 424, 133, 369, 24, 143, 261, 241, 244, 211, 300, 75, 385, 48, 509, 209, 99, 367, 128, 329, 527, 500, 94, 489, 64, 253, 378, 158, 19, 120, 119, 302, 232, 181, 605, 501, 436, 173, 316, 190, 388, 592, 123, 477, 389, 114, 472, 60, 595, 571, 63, 349, 441, 213, 608, 503, 67, 530, 351, 287, 523, 458, 202, 87, 269, 357, 603, 273, 387, 53, 332, 370, 227, 256, 418, 161, 263, 242, 614, 34, 433, 92, 610, 194, 507, 476, 442, 462, 68, 469, 583, 364, 45, 451, 513, 252, 416, 564, 175, 381, 309, 212, 0, 260, 350, 132, 578, 521, 562, 536, 473, 444, 390, 296, 558, 326, 214, 286, 518, 305, 243, 203, 168, 327, 89, 236, 38, 40, 557, 438, 96, 588, 428, 131, 330, 609, 611, 101, 488, 84, 113, 526, 125, 189, 589, 375, 467, 117]\n"
     ]
    }
   ],
   "source": [
    "# use this cell to modify how many images are used as reference...\n",
    "ref_images = 200    # how many images to use? \n",
    "\n",
    "objp, imgp = [], []\n",
    "indexes = []\n",
    "\n",
    "# select random images... \n",
    "for i in range(ref_images):\n",
    "    while True:\n",
    "        index = random.randint(0, len(objpoints)-1)\n",
    "        if not index in indexes:\n",
    "            indexes.append(index)\n",
    "            objp.append(objpoints[index])\n",
    "            imgp.append(imgpoints[index])\n",
    "            break\n",
    "        else:\n",
    "            continue\n",
    "            \n",
    "print(indexes)"
   ]
  },
  {
   "cell_type": "code",
   "execution_count": 5,
   "metadata": {},
   "outputs": [
    {
     "name": "stdout",
     "output_type": "stream",
     "text": [
      "\n",
      "RMS 1.1375271702556036 \n",
      "\n",
      "Camera Matrix: \n",
      " [[1.87275285e+03 0.00000000e+00 9.75764866e+02]\n",
      " [0.00000000e+00 1.87696998e+03 5.42590101e+02]\n",
      " [0.00000000e+00 0.00000000e+00 1.00000000e+00]]\n",
      "distortion coefficients:  [ 1.58175072e-01 -6.59545156e-01  1.10951578e-03 -7.72102192e-04\n",
      "  1.87636309e+00] \n",
      "\n",
      "Focal length in x = 3.90 mm\n",
      "Focal length in y = 5.21 mm\n",
      "Processed 200 images in 1487.4 s\n",
      "\n"
     ]
    }
   ],
   "source": [
    "# camera calibration\n",
    "\n",
    "startTime = time.time()\n",
    "\n",
    "frame_width  = w = 1920\n",
    "frame_height = h = 1080\n",
    "\n",
    "# determine camera matrix, distortion coefficients, \n",
    "# rotation and translation vectors\n",
    "rms, camera_matrix, dist_coefs, rvecs, tvecs = cv.calibrateCamera(\n",
    "                                                objp, imgp, \n",
    "                                                (frame_width,frame_height), None, None)\n",
    "\n",
    "print(\"\\nRMS\", rms, \"\\n\")\n",
    "print(\"Camera Matrix: \\n\", camera_matrix)\n",
    "print(\"distortion coefficients: \", dist_coefs.ravel(), \"\\n\")\n",
    "\n",
    "# compute focal lengths\n",
    "fx = camera_matrix[0][0]   # focal length in x-direction\n",
    "fy = camera_matrix[1][1]   # focal length in y-direction\n",
    "W  = 4                 # sensor width in mm    6.3 x 4.7mm\n",
    "H  = 3                # sensor height in mm\n",
    "\n",
    "Fx = fx * W/w\n",
    "Fy = fy * H/h\n",
    "\n",
    "print(\"Focal length in x = {:.2f} mm\".format(Fx))\n",
    "print(\"Focal length in y = {:.2f} mm\".format(Fy))\n",
    "winsound.Beep(440, 1000)\n",
    "print(\"Processed {:.0f} images in {:.1f} s\\n\".format(ref_images, time.time()-startTime))\n"
   ]
  },
  {
   "cell_type": "code",
   "execution_count": 6,
   "metadata": {},
   "outputs": [
    {
     "name": "stdout",
     "output_type": "stream",
     "text": [
      "[275, 419, 492, 186, 622, 593, 529, 311, 285, 23, 129, 52, 379, 28, 193, 257, 301, 413, 581, 366, 602, 108, 230, 594, 483, 20, 8, 391, 584, 368, 380, 18, 167, 539, 446, 223, 502, 184, 515, 97, 162, 248, 355, 267, 22, 277, 151, 148, 172, 417, 47, 137, 219, 424, 133, 369, 24, 143, 261, 241, 244, 211, 300, 75, 385, 48, 509, 209, 99, 367, 128, 329, 527, 500, 94, 489, 64, 253, 378, 158, 19, 120, 119, 302, 232, 181, 605, 501, 436, 173, 316, 190, 388, 592, 123, 477, 389, 114, 472, 60, 595, 571, 63, 349, 441, 213, 608, 503, 67, 530, 351, 287, 523, 458, 202, 87, 269, 357, 603, 273, 387, 53, 332, 370, 227, 256, 418, 161, 263, 242, 614, 34, 433, 92, 610, 194, 507, 476, 442, 462, 68, 469, 583, 364, 45, 451, 513, 252, 416, 564, 175, 381, 309, 212, 0, 260, 350, 132, 578, 521, 562, 536, 473, 444, 390, 296, 558, 326, 214, 286, 518, 305, 243, 203, 168, 327, 89, 236, 38, 40, 557, 438, 96, 588, 428, 131, 330, 609, 611, 101, 488, 84, 113, 526, 125, 189, 589, 375, 467, 117]\n"
     ]
    }
   ],
   "source": [
    "print( indexes)"
   ]
  },
  {
   "cell_type": "code",
   "execution_count": 7,
   "metadata": {},
   "outputs": [
    {
     "name": "stdout",
     "output_type": "stream",
     "text": [
      "New Camera Matrix: \n",
      " [[1.92431360e+03 0.00000000e+00 9.73515460e+02]\n",
      " [0.00000000e+00 1.89481995e+03 5.43054368e+02]\n",
      " [0.00000000e+00 0.00000000e+00 1.00000000e+00]]\n",
      "ROI =  (16, 19, 1890, 1042)\n"
     ]
    }
   ],
   "source": [
    "# refine the camera matrix\n",
    "newcameramtx, roi = cv.getOptimalNewCameraMatrix(camera_matrix, \n",
    "                                                dist_coefs, (w,h), 1, (w,h))\n",
    "\n",
    "print(\"New Camera Matrix: \\n\", newcameramtx)\n",
    "print(\"ROI = \", roi)"
   ]
  },
  {
   "cell_type": "code",
   "execution_count": null,
   "metadata": {},
   "outputs": [],
   "source": [
    "def cameraMatrix(no_images, npzFileName, w = 1920, h = 1080):\n",
    "    # timing of the function\n",
    "    startTime = time.time() \n",
    "    \n",
    "    # Find and read the .npz file with data in\n",
    "    npzfile = np.load(npzFileName)\n",
    "    \n",
    "    # extract the object and image points\n",
    "    objpoints = npzfile[\"objpoints\"]\n",
    "    imgpoints = npzfile[\"imgpoints\"]\n",
    "    objp      = objpoints[:no_images+1]   # only take the first n no. images\n",
    "    imgp      = imgpoints[:no_images+1]\n",
    "    \n",
    "    # determine the RMS projection error, camera matrix, \n",
    "    # distortion coefficients, rotation and translation vectors\n",
    "    rms, camera_matrix, dist_coefficients, rvecs, tvecs = cv.calibrateCamera(\n",
    "                                                          objp, imgp, \n",
    "                                                          (w,h), None, None)\n",
    "    \n",
    "    #fovx, fovy, focalLength, principalPoint, aspectRatio = cv.calibrationMatrixValues(\n",
    "    #                                                       camera_matrix, (w,h), \n",
    "    #                                                      sensorWidth, sensorHeight\n",
    "    \n",
    "    \n",
    "    print(\"Processed {:.0f} images in {:.1f} s\".format(no_images, time.time()-startTime))\n",
    "    print(\"\\nRMS\", rms, \"\\n\")\n",
    "    print(\"Camera Matrix: \\n\", camera_matrix)\n",
    "    print(\"distortion coefficients: \", dist_coefficients.ravel(), \"\\n\")\n",
    "    \n",
    "    # refine the camera matrix\n",
    "    newcameramtx, roi = cv.getOptimalNewCameraMatrix(camera_matrix, \n",
    "                                                dist_coefficients, (w,h), 1, (w,h))\n",
    "    \n",
    "    print(\"Optimised Camera Matrix: \\n\", newcameramtx, \"\\n \\n\")\n",
    "    print(\"################################################################ \\n\")\n",
    "    \n",
    "    return no_images, rms, camera_matrix, dist_coefficients, newcameramtx\n",
    "    \n",
    "\n"
   ]
  },
  {
   "cell_type": "code",
   "execution_count": null,
   "metadata": {},
   "outputs": [],
   "source": [
    "imgs, RMS, cameramtx, dist_coefficients, optimalCameraMtx = [], [], [], [], []\n",
    "\n",
    "for no_images in np.arange(10, 60, 10):\n",
    "    images, rms, camera_matrix, dist_coefs, newcameramtx = cameraMatrix(no_images, outfile)\n",
    "    imgs.append(images)\n",
    "    RMS.append(rms)\n",
    "    cameramtx.append(camera_matrix)\n",
    "    dist_coefficients.append(dist_coefs)\n",
    "    optimalCameraMtx.append(newcameramtx)"
   ]
  },
  {
   "cell_type": "code",
   "execution_count": null,
   "metadata": {},
   "outputs": [],
   "source": [
    "a = np.arange(10,60,10)\n",
    "b = a.tolist()"
   ]
  },
  {
   "cell_type": "code",
   "execution_count": null,
   "metadata": {},
   "outputs": [],
   "source": [
    "\n",
    "    "
   ]
  },
  {
   "cell_type": "code",
   "execution_count": null,
   "metadata": {},
   "outputs": [],
   "source": []
  }
 ],
 "metadata": {
  "kernelspec": {
   "display_name": "Python 3",
   "language": "python",
   "name": "python3"
  },
  "language_info": {
   "codemirror_mode": {
    "name": "ipython",
    "version": 3
   },
   "file_extension": ".py",
   "mimetype": "text/x-python",
   "name": "python",
   "nbconvert_exporter": "python",
   "pygments_lexer": "ipython3",
   "version": "3.7.0"
  }
 },
 "nbformat": 4,
 "nbformat_minor": 2
}
