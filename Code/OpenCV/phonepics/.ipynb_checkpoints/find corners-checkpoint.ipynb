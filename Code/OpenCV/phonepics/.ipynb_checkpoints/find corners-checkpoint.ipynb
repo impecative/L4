{
 "cells": [
  {
   "cell_type": "code",
   "execution_count": 1,
   "metadata": {},
   "outputs": [],
   "source": [
    "# necessary modules\n",
    "import numpy as np      # for maths\n",
    "import cv2 as cv        # for camera tools\n",
    "import glob             \n",
    "import os\n",
    "import sys, time\n"
   ]
  },
  {
   "cell_type": "code",
   "execution_count": 2,
   "metadata": {},
   "outputs": [],
   "source": [
    "# termination criteria\n",
    "criteria = (cv.TermCriteria_EPS + cv.TermCriteria_MAX_ITER, 30, 0.001)\n",
    "\n",
    "cols, rows = 7, 10\n",
    "\n",
    "shape = (cols, rows)\n"
   ]
  },
  {
   "cell_type": "code",
   "execution_count": 3,
   "metadata": {},
   "outputs": [],
   "source": [
    "# prepare object points\n",
    "# prepare object points\n",
    "objp = np.zeros((cols*rows,3), np.float32) # zero array for 8 x 11 circle board\n",
    "objp[:,:2] = np.mgrid[0:cols,0:rows].T.reshape(-1,2)  # format shape of array\n",
    "\n",
    "# arrays to store object points and image points\n",
    "objpoints = []\n",
    "imgpoints = []"
   ]
  },
  {
   "cell_type": "code",
   "execution_count": 4,
   "metadata": {},
   "outputs": [],
   "source": [
    "# read the image file(s)\n",
    "images = glob.glob(\"*.jpg\")\n",
    "\n",
    "folder = \"found_patterns\"\n",
    "\n",
    "if not os.path.exists(folder):\n",
    "    os.mkdir(folder)\n",
    "    \n",
    "path = \"{}/{}\".format(os.getcwd(), folder)\n"
   ]
  },
  {
   "cell_type": "code",
   "execution_count": 5,
   "metadata": {},
   "outputs": [
    {
     "name": "stdout",
     "output_type": "stream",
     "text": [
      "Total number of frames to process:  0\n"
     ]
    }
   ],
   "source": [
    "# make video version of series of pictures... \n",
    "out = cv.VideoWriter('pics.avi',cv.VideoWriter_fourcc('M','J','P','G'), 1, (4160,3120))\n",
    "\n",
    "counter = 1\n",
    "for fname in images[]:\n",
    "    sys.stdout.write(\"\\r\" + \"Frame Number {:.0f}\".format(counter))\n",
    "    counter += 1\n",
    "    \n",
    "    out.write(cv.imread(fname))\n",
    "\n",
    "    \n",
    "\n",
    "out.release()\n",
    "    \n",
    "cap = cv.VideoCapture(\"pics.avi\")\n",
    "\n",
    "frameNumbers = cap.get(cv.CAP_PROP_FRAME_COUNT)\n",
    "print(\"\\r\"+\"Total number of frames to process: \", int(frameNumbers))    \n"
   ]
  },
  {
   "cell_type": "code",
   "execution_count": null,
   "metadata": {},
   "outputs": [],
   "source": [
    "cap = cv.VideoCapture('pics.avi')\n",
    "\n",
    "\n",
    "\n",
    "# width and height for output file\n",
    "frame_width = int(cap.get(3))\n",
    "frame_height = int(cap.get(4))\n",
    "\n",
    "if (cap.isOpened()== False): \n",
    "  print(\"Error opening video stream or file\")\n",
    "\n",
    "startTime = time.time()\n",
    "counter = 0\n",
    "scounter = 1\n",
    "while cap.isOpened():\n",
    "    \n",
    "    # percentage done to give progress...\n",
    "    percentageDone = counter/frameNumbers * 100\n",
    "    sys.stdout.write('\\r' + \"Currently at {:.0f} % complete, time elapsed: {:.1f} s\".format(percentageDone, \n",
    "                                                                                            time.time()-startTime))\n",
    "    counter += 1\n",
    "    \n",
    "    ret, frame = cap.read()\n",
    "    \n",
    "    if ret == True:\n",
    "        # make image more manageable \n",
    "        reimg = cv.resize(frame, (800, 600))    # (1149, 766) works\n",
    "            \n",
    "        # scale factor\n",
    "        factor = frame.shape[1]/reimg.shape[1]\n",
    "        \n",
    "        # make grayscale image\n",
    "        gray = cv.cvtColor(frame, cv.COLOR_BGR2GRAY)\n",
    "        \n",
    "        # find the chessboard corners\n",
    "        found, corners = cv.findChessboardCorners(gray, shape, \n",
    "                                        flags=cv.CALIB_CB_ADAPTIVE_THRESH\n",
    "                                           + cv.CALIB_CB_NORMALIZE_IMAGE)\n",
    "        \n",
    "        if found:\n",
    "            # add the object points to array\n",
    "            objpoints.append(objp)\n",
    "            \n",
    "            # fine tune the corner positions \n",
    "            corners2 = cv.cornerSubPix(gray, corners, (11,11), (-1,-1), \n",
    "                                   criteria)\n",
    "            \n",
    "            # add the corners to the imagepoints array\n",
    "            imgpoints.append(corners2)\n",
    "            \n",
    "            # draw and display the patterns\n",
    "            drawimg = cv.drawChessboardCorners(reimg, shape, corners2/factor, ret)\n",
    "            \n",
    "            cv.imwrite(os.path.join(path , '{}.png'.format(scounter)), drawimg)\n",
    "            scounter += 1\n",
    "        \n",
    "        else:\n",
    "            pass\n",
    "    else:\n",
    "        break\n",
    "        \n",
    "cv.destroyAllWindows()\n",
    "            \n",
    "    \n",
    "    \n",
    "    \n",
    "    \n",
    "    "
   ]
  },
  {
   "cell_type": "code",
   "execution_count": null,
   "metadata": {},
   "outputs": [],
   "source": [
    "\"\"\"counter, success = 1, 0 \n",
    "size = (cols,rows)   # (cols, rows)\n",
    "startTime = time.time()\n",
    "\n",
    "path = '{}/{}'.format(os.getcwd(),folder)\n",
    "\n",
    "for fname in images:\n",
    "       \n",
    "    # progress counter\n",
    "    percent_done = counter * 100 / len(images)\n",
    "    sys.stdout.write('\\r' + \"{:.0f} % complete. Time elapsed: {:.0f} s\".format(percent_done, time.time()-startTime))\n",
    "    counter += 1\n",
    "    \n",
    "    # full size image for best accuracy\n",
    "    img = cv.imread(fname)\n",
    "    \n",
    "    # resize the image to make it more manageable\n",
    "    reimg = cv.resize(img, (800, 600))    # (1149, 766) works\n",
    "    #reimg = img\n",
    "    \n",
    "    # scale factor\n",
    "    factor = img.shape[1]/reimg.shape[1]\n",
    "\n",
    "    # convert to gray\n",
    "    gray = cv.cvtColor(img, cv.COLOR_BGR2GRAY)\n",
    "    \n",
    "    # find checkerboard corners\n",
    "    ret, centres = cv.findChessboardCorners(gray, size, \n",
    "                                        flags=cv.CALIB_CB_ADAPTIVE_THRESH\n",
    "                                           + cv.CALIB_CB_NORMALIZE_IMAGE)\n",
    "\n",
    "    if ret == True: \n",
    "        success += 1\n",
    "        sys.stdout.write(\"\\r\"+\"{:.0f} %, Pattern found. Time elapsed {:.0f}\".format(percent_done, time.time()-startTime))\n",
    "        objpoints.append(objp)\n",
    "    \n",
    "        centres2 = centres\n",
    "        centres2 = cv.cornerSubPix(gray, centres, (11,11), (-1,-1), \n",
    "                                   criteria)\n",
    "\n",
    "        imgpoints.append(centres2)\n",
    "\n",
    "        # draw and display the patterns\n",
    "        drawimg = cv.drawChessboardCorners(reimg, size, centres2/factor, ret)\n",
    "\n",
    "        #cv.imshow(\"img\", drawimg)        \n",
    "        cv.imwrite(os.path.join(path , '{}.png'.format(success)), drawimg)\n",
    "\n",
    "        cv.waitKey(200)\n",
    "        \n",
    "    else:\n",
    "        sys.stdout.write(\"\\r\" + \"{:.0f} %, Pattern not found...\".format(percent_done))\n",
    "        \n",
    "cv.destroyAllWindows()\n",
    "        \n",
    "print(\"Succeeded for {}/{} images\".format(success,len(images)))\"\"\""
   ]
  },
  {
   "cell_type": "code",
   "execution_count": null,
   "metadata": {},
   "outputs": [],
   "source": [
    "# camera calibration\n",
    "h, w = img.shape[:2]\n",
    "\n",
    "rms, camera_matrix, dist_coefs, rvecs, tvecs = cv.calibrateCamera(\n",
    "                                                objpoints, imgpoints, \n",
    "                                                (w,h), None, None)\n",
    "\n",
    "print(\"\\nRMS\", rms, \"\\n\")\n",
    "print(\"Camera Matrix: \\n\", camera_matrix)\n",
    "print(\"distortion coefficients: \", dist_coefs.ravel(), \"\\n\")\n",
    "\n",
    "# compute focal lengths\n",
    "fx = camera_matrix[0][0]   # focal length in x-direction\n",
    "fy = camera_matrix[1][1]   # focal length in y-direction\n",
    "W  = 23.5                  # sensor width in mm\n",
    "H  = 15.6                  # sensor height in mm\n",
    "\n",
    "Fx = fx * W/w\n",
    "Fy = fy * H/h\n",
    "\n",
    "print(\"Focal length in x = {:.2f} mm\".format(Fx))\n",
    "print(\"Focal length in y = {:.2f} mm\".format(Fy))"
   ]
  },
  {
   "cell_type": "code",
   "execution_count": null,
   "metadata": {},
   "outputs": [],
   "source": [
    "newcameramtx, roi = cv.getOptimalNewCameraMatrix(camera_matrix, \n",
    "                                                dist_coefs, (w,h), 1, (w,h))\n",
    "\n",
    "print(\"New Camera Matrix: \\n\", newcameramtx)\n",
    "print(\"ROI = \", roi)"
   ]
  },
  {
   "cell_type": "code",
   "execution_count": null,
   "metadata": {},
   "outputs": [],
   "source": [
    "# check the camera parameters\n",
    "fovx, fovy, focalLength, principalPoint, aspectRatio = cv.calibrationMatrixValues(camera_matrix, img.shape[:2], \n",
    "                                                                                  15.6, 23.5)\n",
    "\n",
    "print(\"focal length is {:.2f} mm \\n\".format(focalLength))\n",
    "print(\"aspect ratio is {:.2f} \\n\".format(aspectRatio))\n",
    "print(\"The principle point is ({:.2f}, {:.2f})\".format(principalPoint[0], principalPoint[1]))"
   ]
  },
  {
   "cell_type": "code",
   "execution_count": null,
   "metadata": {},
   "outputs": [],
   "source": [
    "# undistort the image\n",
    "\n",
    "dst = cv.undistort(reimg, camera_matrix, dist_coefs, None, newcameramtx)"
   ]
  },
  {
   "cell_type": "code",
   "execution_count": null,
   "metadata": {},
   "outputs": [],
   "source": [
    "# crop and display image\n",
    "x, y, w, h = roi\n",
    "dst = dst[y:y+h, x:x+w]\n",
    "\n"
   ]
  },
  {
   "cell_type": "code",
   "execution_count": null,
   "metadata": {},
   "outputs": [],
   "source": [
    "# show before and after distortion\n",
    "#resize = dst.resize(dst, (600, 400))\n",
    "#cv.imshow(\"the result\", resize)\n",
    "#cv.namedWindow(\"The result!\", flags=WINDOW_AUTOSIZE)\n",
    "\n",
    "cv.imshow(\"The result\", dst)\n",
    "cv.imshow(\"original\", reimg)\n",
    "\n",
    "#new = cv.resize(dst, (600, 400))\n",
    "#original = cv.resize(reimg, (600,400))\n",
    "#cv.imshow(\"The result!\", new)\n",
    "\n",
    "\n",
    "\n",
    "cv.imshow(\"Original\", original)\n",
    "cv.waitKey(0)\n",
    "\n",
    "cv.destroyAllWindows()"
   ]
  },
  {
   "cell_type": "code",
   "execution_count": null,
   "metadata": {},
   "outputs": [],
   "source": [
    "# calculate rms error\n",
    "mean_error = 0\n",
    "for i in range(len(objpoints)):\n",
    "    imgpoints2, _ = cv.projectPoints(objpoints[i], rvecs[i], tvecs[i], camera_matrix, dist_coefs)\n",
    "    error = cv.norm(imgpoints[i],imgpoints2, cv.NORM_L2)/len(imgpoints2)\n",
    "    mean_error += error\n",
    "\n",
    "print(\"total error: \", mean_error/len(objpoints))"
   ]
  },
  {
   "cell_type": "code",
   "execution_count": null,
   "metadata": {},
   "outputs": [],
   "source": []
  },
  {
   "cell_type": "code",
   "execution_count": null,
   "metadata": {},
   "outputs": [],
   "source": []
  }
 ],
 "metadata": {
  "kernelspec": {
   "display_name": "Python 3",
   "language": "python",
   "name": "python3"
  },
  "language_info": {
   "codemirror_mode": {
    "name": "ipython",
    "version": 3
   },
   "file_extension": ".py",
   "mimetype": "text/x-python",
   "name": "python",
   "nbconvert_exporter": "python",
   "pygments_lexer": "ipython3",
   "version": "3.7.0"
  }
 },
 "nbformat": 4,
 "nbformat_minor": 2
}
